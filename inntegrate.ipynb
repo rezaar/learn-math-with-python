{
 "cells": [
  {
   "cell_type": "markdown",
   "id": "0fc95fc8",
   "metadata": {},
   "source": [
    "## انتگرال"
   ]
  },
  {
   "cell_type": "code",
   "execution_count": 5,
   "id": "5f857f60",
   "metadata": {},
   "outputs": [],
   "source": [
    "import sympy as sp"
   ]
  },
  {
   "cell_type": "code",
   "execution_count": 7,
   "id": "4430addf",
   "metadata": {},
   "outputs": [],
   "source": [
    "x = sp.Symbol('x')\n",
    "y = sp.Symbol('y')"
   ]
  },
  {
   "cell_type": "code",
   "execution_count": 8,
   "id": "c80bde18",
   "metadata": {},
   "outputs": [
    {
     "data": {
      "text/latex": [
       "$\\displaystyle \\frac{x^{2}}{2}$"
      ],
      "text/plain": [
       "x**2/2"
      ]
     },
     "execution_count": 8,
     "metadata": {},
     "output_type": "execute_result"
    }
   ],
   "source": [
    "sp.integrate(x)"
   ]
  },
  {
   "cell_type": "code",
   "execution_count": null,
   "id": "fb2e7ebe",
   "metadata": {},
   "outputs": [
    {
     "data": {
      "text/latex": [
       "$\\displaystyle \\frac{x^{2}}{2}$"
      ],
      "text/plain": [
       "x**2/2"
      ]
     },
     "execution_count": 9,
     "metadata": {},
     "output_type": "execute_result"
    }
   ],
   "source": [
    "sp.integrate(x,x) #xdy"
   ]
  },
  {
   "cell_type": "code",
   "execution_count": null,
   "id": "4ebe3661",
   "metadata": {},
   "outputs": [
    {
     "data": {
      "text/latex": [
       "$\\displaystyle x y$"
      ],
      "text/plain": [
       "x*y"
      ]
     },
     "execution_count": 10,
     "metadata": {},
     "output_type": "execute_result"
    }
   ],
   "source": [
    "sp.integrate(x,y) #xdy"
   ]
  },
  {
   "cell_type": "code",
   "execution_count": null,
   "id": "da9150f7",
   "metadata": {},
   "outputs": [
    {
     "data": {
      "text/latex": [
       "$\\displaystyle \\frac{x^{3}}{3}$"
      ],
      "text/plain": [
       "x**3/3"
      ]
     },
     "execution_count": 11,
     "metadata": {},
     "output_type": "execute_result"
    }
   ],
   "source": [
    "sp.integrate(x ** 2, x) #x ** 2 dx"
   ]
  },
  {
   "cell_type": "code",
   "execution_count": 13,
   "id": "822ee755",
   "metadata": {},
   "outputs": [
    {
     "data": {
      "text/latex": [
       "$\\displaystyle x^{2} y$"
      ],
      "text/plain": [
       "x**2*y"
      ]
     },
     "execution_count": 13,
     "metadata": {},
     "output_type": "execute_result"
    }
   ],
   "source": [
    "sp.integrate(x ** 2, y) #x ** 2 dy"
   ]
  },
  {
   "cell_type": "code",
   "execution_count": 14,
   "id": "77a9795a",
   "metadata": {},
   "outputs": [
    {
     "data": {
      "text/latex": [
       "$\\displaystyle x^{2} + 3 y$"
      ],
      "text/plain": [
       "x**2 + 3*y"
      ]
     },
     "execution_count": 14,
     "metadata": {},
     "output_type": "execute_result"
    }
   ],
   "source": [
    "f = x ** 2 + 3 * y\n",
    "f"
   ]
  },
  {
   "cell_type": "code",
   "execution_count": 15,
   "id": "f4c2aba4",
   "metadata": {},
   "outputs": [
    {
     "data": {
      "text/latex": [
       "$\\displaystyle \\frac{x^{3}}{3} + 3 x y$"
      ],
      "text/plain": [
       "x**3/3 + 3*x*y"
      ]
     },
     "execution_count": 15,
     "metadata": {},
     "output_type": "execute_result"
    }
   ],
   "source": [
    "sp.integrate(f,x)"
   ]
  },
  {
   "cell_type": "code",
   "execution_count": 16,
   "id": "3bfb0eb5",
   "metadata": {},
   "outputs": [
    {
     "data": {
      "text/latex": [
       "$\\displaystyle x^{2} y + \\frac{3 y^{2}}{2}$"
      ],
      "text/plain": [
       "x**2*y + 3*y**2/2"
      ]
     },
     "execution_count": 16,
     "metadata": {},
     "output_type": "execute_result"
    }
   ],
   "source": [
    "sp.integrate(f,y)"
   ]
  },
  {
   "cell_type": "code",
   "execution_count": 18,
   "id": "d3475f10",
   "metadata": {},
   "outputs": [
    {
     "data": {
      "text/latex": [
       "$\\displaystyle - \\cos{\\left(x \\right)}$"
      ],
      "text/plain": [
       "-cos(x)"
      ]
     },
     "execution_count": 18,
     "metadata": {},
     "output_type": "execute_result"
    }
   ],
   "source": [
    "sp.integrate(sp.sin(x), x)"
   ]
  },
  {
   "cell_type": "code",
   "execution_count": 20,
   "id": "34ea5c0a",
   "metadata": {},
   "outputs": [
    {
     "data": {
      "text/latex": [
       "$\\displaystyle - \\frac{e^{- 2 x}}{2}$"
      ],
      "text/plain": [
       "-exp(-2*x)/2"
      ]
     },
     "execution_count": 20,
     "metadata": {},
     "output_type": "execute_result"
    }
   ],
   "source": [
    "sp.integrate(sp.exp(-2 * x), x)\n"
   ]
  },
  {
   "cell_type": "markdown",
   "id": "97300767",
   "metadata": {},
   "source": [
    "# انتگرال معین"
   ]
  },
  {
   "cell_type": "code",
   "execution_count": 24,
   "id": "28073cd7",
   "metadata": {},
   "outputs": [
    {
     "data": {
      "text/latex": [
       "$\\displaystyle \\frac{3}{2}$"
      ],
      "text/plain": [
       "3/2"
      ]
     },
     "execution_count": 24,
     "metadata": {},
     "output_type": "execute_result"
    }
   ],
   "source": [
    "sp.integrate(x, (x, 1, 2))"
   ]
  }
 ],
 "metadata": {
  "kernelspec": {
   "display_name": "yolov8",
   "language": "python",
   "name": "python3"
  },
  "language_info": {
   "codemirror_mode": {
    "name": "ipython",
    "version": 3
   },
   "file_extension": ".py",
   "mimetype": "text/x-python",
   "name": "python",
   "nbconvert_exporter": "python",
   "pygments_lexer": "ipython3",
   "version": "3.8.19"
  }
 },
 "nbformat": 4,
 "nbformat_minor": 5
}
