{
 "cells": [
  {
   "cell_type": "markdown",
   "id": "b5f41d6e",
   "metadata": {},
   "source": [
    "# مقادیر ویژه و بردار ویژه\n"
   ]
  },
  {
   "cell_type": "code",
   "execution_count": 6,
   "id": "19899364",
   "metadata": {},
   "outputs": [],
   "source": [
    "import numpy as np"
   ]
  },
  {
   "cell_type": "code",
   "execution_count": 14,
   "id": "facf4d9c",
   "metadata": {},
   "outputs": [
    {
     "name": "stdout",
     "output_type": "stream",
     "text": [
      "[[1 4]\n",
      " [3 2]]\n"
     ]
    }
   ],
   "source": [
    "A = np.array([[1, 4], [3, 2]])\n",
    "print(A)"
   ]
  },
  {
   "cell_type": "code",
   "execution_count": 15,
   "id": "e7b2a326",
   "metadata": {},
   "outputs": [],
   "source": [
    "L, V =np.linalg.eig(A)"
   ]
  },
  {
   "cell_type": "markdown",
   "id": "928657e2",
   "metadata": {},
   "source": [
    "# مقادیر ویژه"
   ]
  },
  {
   "cell_type": "code",
   "execution_count": 16,
   "id": "a95d9a94",
   "metadata": {},
   "outputs": [
    {
     "name": "stdout",
     "output_type": "stream",
     "text": [
      "[-2.  5.]\n"
     ]
    }
   ],
   "source": [
    "print(L)"
   ]
  },
  {
   "cell_type": "markdown",
   "id": "2317c06d",
   "metadata": {},
   "source": [
    "# بردار ویژه"
   ]
  },
  {
   "cell_type": "code",
   "execution_count": 17,
   "id": "8a4c086f",
   "metadata": {},
   "outputs": [
    {
     "name": "stdout",
     "output_type": "stream",
     "text": [
      "[[-0.8        -0.70710678]\n",
      " [ 0.6        -0.70710678]]\n"
     ]
    }
   ],
   "source": [
    "print(V)"
   ]
  },
  {
   "cell_type": "code",
   "execution_count": 18,
   "id": "2f438a1c",
   "metadata": {},
   "outputs": [
    {
     "name": "stdout",
     "output_type": "stream",
     "text": [
      "[[ 1  2 30]\n",
      " [ 0  3  0]\n",
      " [ 0  0  1]]\n"
     ]
    }
   ],
   "source": [
    "B = np.array([[1, 2, 30], [0, 3, 0], [0, 0, 1]])\n",
    "print(B)"
   ]
  },
  {
   "cell_type": "code",
   "execution_count": 19,
   "id": "ca291902",
   "metadata": {},
   "outputs": [],
   "source": [
    "L, V =  np.linalg.eig(B)"
   ]
  },
  {
   "cell_type": "code",
   "execution_count": null,
   "id": "461b253c",
   "metadata": {},
   "outputs": [
    {
     "name": "stdout",
     "output_type": "stream",
     "text": [
      "[1. 3. 1.]\n"
     ]
    }
   ],
   "source": [
    "print(L)"
   ]
  },
  {
   "cell_type": "code",
   "execution_count": 23,
   "id": "7323ac84",
   "metadata": {},
   "outputs": [
    {
     "name": "stdout",
     "output_type": "stream",
     "text": [
      "[[ 1.    0.71 -1.  ]\n",
      " [ 0.    0.71  0.  ]\n",
      " [ 0.    0.    0.  ]]\n"
     ]
    }
   ],
   "source": [
    "print(np.around(V, decimals=2))"
   ]
  },
  {
   "cell_type": "code",
   "execution_count": 25,
   "id": "9b7d9133",
   "metadata": {},
   "outputs": [],
   "source": [
    "import sympy as sp"
   ]
  },
  {
   "cell_type": "code",
   "execution_count": 27,
   "id": "a5ac8ccd",
   "metadata": {},
   "outputs": [
    {
     "data": {
      "text/latex": [
       "$\\displaystyle \\left[\\begin{matrix}1 & 2 & 30\\\\0 & 3 & 0\\\\0 & 0 & 1\\end{matrix}\\right]$"
      ],
      "text/plain": [
       "Matrix([\n",
       "[1, 2, 30],\n",
       "[0, 3,  0],\n",
       "[0, 0,  1]])"
      ]
     },
     "execution_count": 27,
     "metadata": {},
     "output_type": "execute_result"
    }
   ],
   "source": [
    "B = sp.Matrix([[1, 2, 30], [0, 3, 0], [0, 0, 1]])\n",
    "B"
   ]
  },
  {
   "cell_type": "markdown",
   "id": "09f67ee2",
   "metadata": {},
   "source": [
    "# مقدار ویژه"
   ]
  },
  {
   "cell_type": "code",
   "execution_count": 29,
   "id": "cb9fa7ee",
   "metadata": {},
   "outputs": [
    {
     "data": {
      "text/plain": [
       "{3: 1, 1: 2}"
      ]
     },
     "execution_count": 29,
     "metadata": {},
     "output_type": "execute_result"
    }
   ],
   "source": [
    "B.eigenvals()"
   ]
  },
  {
   "cell_type": "markdown",
   "id": "529b5755",
   "metadata": {},
   "source": [
    "# بردار ویژه"
   ]
  },
  {
   "cell_type": "code",
   "execution_count": 30,
   "id": "2073c6dd",
   "metadata": {},
   "outputs": [
    {
     "data": {
      "text/plain": [
       "[(1,\n",
       "  2,\n",
       "  [Matrix([\n",
       "   [1],\n",
       "   [0],\n",
       "   [0]])]),\n",
       " (3,\n",
       "  1,\n",
       "  [Matrix([\n",
       "   [1],\n",
       "   [1],\n",
       "   [0]])])]"
      ]
     },
     "execution_count": 30,
     "metadata": {},
     "output_type": "execute_result"
    }
   ],
   "source": [
    "B.eigenvects()"
   ]
  }
 ],
 "metadata": {
  "kernelspec": {
   "display_name": "yolov8",
   "language": "python",
   "name": "python3"
  },
  "language_info": {
   "codemirror_mode": {
    "name": "ipython",
    "version": 3
   },
   "file_extension": ".py",
   "mimetype": "text/x-python",
   "name": "python",
   "nbconvert_exporter": "python",
   "pygments_lexer": "ipython3",
   "version": "3.8.19"
  }
 },
 "nbformat": 4,
 "nbformat_minor": 5
}
