{
 "cells": [
  {
   "cell_type": "markdown",
   "id": "d5059bf5",
   "metadata": {},
   "source": [
    "## Mean"
   ]
  },
  {
   "cell_type": "code",
   "execution_count": 101,
   "id": "884ddbf2",
   "metadata": {},
   "outputs": [],
   "source": [
    "import numpy as np"
   ]
  },
  {
   "cell_type": "code",
   "execution_count": 60,
   "id": "9a36c519",
   "metadata": {},
   "outputs": [],
   "source": [
    "x = [1, 4, 5, 4, 8]"
   ]
  },
  {
   "cell_type": "code",
   "execution_count": 62,
   "id": "955761c2",
   "metadata": {},
   "outputs": [
    {
     "data": {
      "text/plain": [
       "4.4"
      ]
     },
     "execution_count": 62,
     "metadata": {},
     "output_type": "execute_result"
    }
   ],
   "source": [
    "np.mean(x)"
   ]
  },
  {
   "cell_type": "markdown",
   "id": "df4cd5c2",
   "metadata": {},
   "source": [
    "## Median"
   ]
  },
  {
   "cell_type": "code",
   "execution_count": 63,
   "id": "d43a8f3a",
   "metadata": {},
   "outputs": [
    {
     "data": {
      "text/plain": [
       "10.0"
      ]
     },
     "execution_count": 63,
     "metadata": {},
     "output_type": "execute_result"
    }
   ],
   "source": [
    "x = [5, 8, 10, 10, 15, 18, 23]\n",
    "np.median(x)"
   ]
  },
  {
   "cell_type": "markdown",
   "id": "f3d0babe",
   "metadata": {},
   "source": [
    "## Mode"
   ]
  },
  {
   "cell_type": "code",
   "execution_count": 83,
   "id": "25cab8c5",
   "metadata": {},
   "outputs": [],
   "source": [
    "import scipy\n",
    "from scipy import stats"
   ]
  },
  {
   "cell_type": "code",
   "execution_count": 84,
   "id": "f2c8fac8",
   "metadata": {},
   "outputs": [
    {
     "name": "stderr",
     "output_type": "stream",
     "text": [
      "C:\\Users\\Reza\\AppData\\Local\\Temp\\ipykernel_11260\\1795631630.py:2: FutureWarning: Unlike other reduction functions (e.g. `skew`, `kurtosis`), the default behavior of `mode` typically preserves the axis it acts along. In SciPy 1.11.0, this behavior will change: the default value of `keepdims` will become False, the `axis` over which the statistic is taken will be eliminated, and the value None will no longer be accepted. Set `keepdims` to True or False to avoid this warning.\n",
      "  m = scipy.stats.mode(x)\n"
     ]
    },
    {
     "data": {
      "text/plain": [
       "ModeResult(mode=array([6]), count=array([3]))"
      ]
     },
     "execution_count": 84,
     "metadata": {},
     "output_type": "execute_result"
    }
   ],
   "source": [
    "x = [1, 2, 3, 4, 4, 5, 6, 6, 6]\n",
    "m = scipy.stats.mode(x)\n",
    "m \n"
   ]
  },
  {
   "cell_type": "code",
   "execution_count": 85,
   "id": "ccb097a9",
   "metadata": {},
   "outputs": [
    {
     "data": {
      "text/plain": [
       "6"
      ]
     },
     "execution_count": 85,
     "metadata": {},
     "output_type": "execute_result"
    }
   ],
   "source": [
    "# عدد با بیشترین تکرار\n",
    "m[0][0]\n"
   ]
  },
  {
   "cell_type": "code",
   "execution_count": 86,
   "id": "233d50ec",
   "metadata": {},
   "outputs": [
    {
     "data": {
      "text/plain": [
       "3"
      ]
     },
     "execution_count": 86,
     "metadata": {},
     "output_type": "execute_result"
    }
   ],
   "source": [
    "# تعداد تکرار\n",
    "m[1][0]"
   ]
  },
  {
   "cell_type": "markdown",
   "id": "9e357d5f",
   "metadata": {},
   "source": [
    "## Quantiles"
   ]
  },
  {
   "cell_type": "code",
   "execution_count": 87,
   "id": "339e5780",
   "metadata": {},
   "outputs": [],
   "source": [
    "a = np.array([5, 7, 10, 15, 19, 21, 21, 22, 22, 23, 23, 23, 23, 23, 24, 24, 24, 24, 25])"
   ]
  },
  {
   "cell_type": "code",
   "execution_count": 88,
   "id": "8518f764",
   "metadata": {},
   "outputs": [
    {
     "data": {
      "text/plain": [
       "array([20. , 23. , 23.5])"
      ]
     },
     "execution_count": 88,
     "metadata": {},
     "output_type": "execute_result"
    }
   ],
   "source": [
    "q = np.percentile(a, [25, 50, 75])\n",
    "q"
   ]
  },
  {
   "cell_type": "code",
   "execution_count": 89,
   "id": "8c82c5f4",
   "metadata": {},
   "outputs": [],
   "source": [
    "Q1 = q[0]\n",
    "Q3 = q[2]"
   ]
  },
  {
   "cell_type": "code",
   "execution_count": 90,
   "id": "251573b2",
   "metadata": {},
   "outputs": [
    {
     "data": {
      "text/plain": [
       "3.5"
      ]
     },
     "execution_count": 90,
     "metadata": {},
     "output_type": "execute_result"
    }
   ],
   "source": [
    "IQR = Q3 - Q1\n",
    "IQR"
   ]
  },
  {
   "cell_type": "code",
   "execution_count": 91,
   "id": "56d4a044",
   "metadata": {},
   "outputs": [
    {
     "data": {
      "text/plain": [
       "14.75"
      ]
     },
     "execution_count": 91,
     "metadata": {},
     "output_type": "execute_result"
    }
   ],
   "source": [
    "Q1 - 1.5 * IQR"
   ]
  },
  {
   "cell_type": "code",
   "execution_count": 92,
   "id": "f23759dc",
   "metadata": {},
   "outputs": [
    {
     "data": {
      "text/plain": [
       "28.75"
      ]
     },
     "execution_count": 92,
     "metadata": {},
     "output_type": "execute_result"
    }
   ],
   "source": [
    "Q3 + 1.5 * IQR"
   ]
  },
  {
   "cell_type": "code",
   "execution_count": 93,
   "id": "dfbfc4fd",
   "metadata": {},
   "outputs": [
    {
     "data": {
      "text/plain": [
       "array([ 5,  7, 10])"
      ]
     },
     "execution_count": 93,
     "metadata": {},
     "output_type": "execute_result"
    }
   ],
   "source": [
    "outliers = a[(a < 14.75) | (a > 28.75)]\n",
    "outliers"
   ]
  },
  {
   "cell_type": "markdown",
   "id": "650df8c9",
   "metadata": {},
   "source": [
    "## Variance"
   ]
  },
  {
   "cell_type": "code",
   "execution_count": 94,
   "id": "8256ad5d",
   "metadata": {},
   "outputs": [
    {
     "data": {
      "text/plain": [
       "5.04"
      ]
     },
     "execution_count": 94,
     "metadata": {},
     "output_type": "execute_result"
    }
   ],
   "source": [
    "x = [1, 4, 5, 4 ,8]\n",
    "np.var(x)"
   ]
  },
  {
   "cell_type": "markdown",
   "id": "d073d6e0",
   "metadata": {},
   "source": [
    "## standard Deviation\n",
    "## انحراف معیار"
   ]
  },
  {
   "cell_type": "code",
   "execution_count": 95,
   "id": "e93d6f5c",
   "metadata": {},
   "outputs": [
    {
     "data": {
      "text/plain": [
       "2.244994432064365"
      ]
     },
     "execution_count": 95,
     "metadata": {},
     "output_type": "execute_result"
    }
   ],
   "source": [
    "sigma = np.std(x)\n",
    "sigma"
   ]
  },
  {
   "cell_type": "markdown",
   "id": "9f596f4c",
   "metadata": {},
   "source": [
    "## covariance"
   ]
  },
  {
   "cell_type": "code",
   "execution_count": 96,
   "id": "db5d34c5",
   "metadata": {},
   "outputs": [],
   "source": [
    "x = [1, 2, 3]\n",
    "y = [12, 14, 16]"
   ]
  },
  {
   "cell_type": "code",
   "execution_count": 97,
   "id": "b341df41",
   "metadata": {},
   "outputs": [
    {
     "name": "stdout",
     "output_type": "stream",
     "text": [
      "[[0.66666667 1.33333333]\n",
      " [1.33333333 2.66666667]]\n"
     ]
    }
   ],
   "source": [
    "cov = np.cov(x, y, ddof=0)  #ddof = درجه آزادی\n",
    "print(cov)"
   ]
  },
  {
   "cell_type": "code",
   "execution_count": 98,
   "id": "4f24c020",
   "metadata": {},
   "outputs": [
    {
     "data": {
      "text/plain": [
       "1.3333333333333333"
      ]
     },
     "execution_count": 98,
     "metadata": {},
     "output_type": "execute_result"
    }
   ],
   "source": [
    "cov[0][1]"
   ]
  },
  {
   "cell_type": "markdown",
   "id": "122128b7",
   "metadata": {},
   "source": [
    "## correlation"
   ]
  },
  {
   "cell_type": "code",
   "execution_count": 99,
   "id": "0bcc1a87",
   "metadata": {},
   "outputs": [],
   "source": [
    "x = [1, 2, 3]\n",
    "y = [12, 14, 16]"
   ]
  },
  {
   "cell_type": "code",
   "execution_count": 100,
   "id": "12a614cb",
   "metadata": {},
   "outputs": [
    {
     "data": {
      "text/plain": [
       "0.9999999999999998"
      ]
     },
     "execution_count": 100,
     "metadata": {},
     "output_type": "execute_result"
    }
   ],
   "source": [
    "r, p = scipy.stats.pearsonr(x, y)\n",
    "r"
   ]
  },
  {
   "cell_type": "code",
   "execution_count": 102,
   "id": "d6b59d5d",
   "metadata": {},
   "outputs": [],
   "source": [
    "import matplotlib.pyplot as plt\n",
    "import seaborn as sns"
   ]
  },
  {
   "cell_type": "code",
   "execution_count": 103,
   "id": "32f67765",
   "metadata": {},
   "outputs": [],
   "source": [
    "a = np.array([5, 7, 10, 15, 19, 21, 21, 22, 22, 23, 23, 23, 23, 23, 24, 24, 24, 24, 25])"
   ]
  },
  {
   "cell_type": "code",
   "execution_count": 105,
   "id": "ea9401d7",
   "metadata": {},
   "outputs": [
    {
     "data": {
      "image/png": "[encoded data removed]",
      "text/plain": [
       "<Figure size 640x480 with 1 Axes>"
      ]
     },
     "metadata": {},
     "output_type": "display_data"
    }
   ],
   "source": [
    "plt.boxplot(a)\n",
    "plt.show()"
   ]
  },
  {
   "cell_type": "code",
   "execution_count": 106,
   "id": "4f6b85f6",
   "metadata": {},
   "outputs": [
    {
     "data": {
      "image/png": "[encoded data removed]",
      "text/plain": [
       "<Figure size 640x480 with 1 Axes>"
      ]
     },
     "metadata": {},
     "output_type": "display_data"
    }
   ],
   "source": [
    "sns.boxplot(x=a, width=0.3);"
   ]
  }
 ],
 "metadata": {
  "kernelspec": {
   "display_name": "yolov8",
   "language": "python",
   "name": "python3"
  },
  "language_info": {
   "codemirror_mode": {
    "name": "ipython",
    "version": 3
   },
   "file_extension": ".py",
   "mimetype": "text/x-python",
   "name": "python",
   "nbconvert_exporter": "python",
   "pygments_lexer": "ipython3",
   "version": "3.8.19"
  }
 },
 "nbformat": 4,
 "nbformat_minor": 5
}
