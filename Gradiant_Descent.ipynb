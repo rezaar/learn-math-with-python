{
 "cells": [
  {
   "cell_type": "code",
   "execution_count": 2,
   "id": "86ade2e9",
   "metadata": {},
   "outputs": [],
   "source": [
    "import numpy as np"
   ]
  },
  {
   "cell_type": "code",
   "execution_count": 14,
   "id": "139f0181",
   "metadata": {},
   "outputs": [],
   "source": [
    "def gradiant_desent(gradiant, start, rate, n_iter):\n",
    "    s = start \n",
    "    for i in range(n_iter):\n",
    "        a = -rate * gradiant(s)\n",
    "        if np.all(np.abs(a) <= 1e-06):\n",
    "            break\n",
    "        s += a\n",
    "        return s"
   ]
  },
  {
   "cell_type": "code",
   "execution_count": null,
   "id": "40fc3303",
   "metadata": {},
   "outputs": [
    {
     "data": {
      "text/plain": [
       "<function __main__.<lambda>(x)>"
      ]
     },
     "execution_count": 16,
     "metadata": {},
     "output_type": "execute_result"
    }
   ],
   "source": [
    "g = lambda x: 2 * x"
   ]
  },
  {
   "cell_type": "code",
   "execution_count": 15,
   "id": "08c2fd52",
   "metadata": {},
   "outputs": [
    {
     "data": {
      "text/plain": [
       "6.0"
      ]
     },
     "execution_count": 15,
     "metadata": {},
     "output_type": "execute_result"
    }
   ],
   "source": [
    "r = gradiant_desent(gradiant=g, start=10.0, rate=0.2, n_iter=25)\n",
    "r "
   ]
  }
 ],
 "metadata": {
  "kernelspec": {
   "display_name": "yolov8",
   "language": "python",
   "name": "python3"
  },
  "language_info": {
   "codemirror_mode": {
    "name": "ipython",
    "version": 3
   },
   "file_extension": ".py",
   "mimetype": "text/x-python",
   "name": "python",
   "nbconvert_exporter": "python",
   "pygments_lexer": "ipython3",
   "version": "3.8.19"
  }
 },
 "nbformat": 4,
 "nbformat_minor": 5
}
