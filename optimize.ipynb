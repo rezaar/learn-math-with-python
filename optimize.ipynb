{
 "cells": [
  {
   "cell_type": "code",
   "execution_count": 2,
   "id": "624e1756",
   "metadata": {},
   "outputs": [],
   "source": [
    "from scipy.optimize import minimize"
   ]
  },
  {
   "cell_type": "code",
   "execution_count": 4,
   "id": "faf8f97b",
   "metadata": {},
   "outputs": [],
   "source": [
    "def f(x):\n",
    "    return x ** 2\n",
    "def g(x):\n",
    "    return x-1"
   ]
  },
  {
   "cell_type": "code",
   "execution_count": 7,
   "id": "cb707d2a",
   "metadata": {},
   "outputs": [
    {
     "name": "stdout",
     "output_type": "stream",
     "text": [
      "[1.]\n",
      "1.0\n"
     ]
    }
   ],
   "source": [
    "res = minimize(f, [0], constraints={'type': 'eq', 'fun': g})\n",
    "print(res.x)\n",
    "print(res.fun)"
   ]
  },
  {
   "cell_type": "code",
   "execution_count": 9,
   "id": "ecbec5d0",
   "metadata": {},
   "outputs": [],
   "source": [
    "def f(A):\n",
    "    x,y = A\n",
    "    return x ** 2 + y ** 2\n",
    "def g(A):\n",
    "    x,y = A\n",
    "    return x+y-1"
   ]
  },
  {
   "cell_type": "code",
   "execution_count": 11,
   "id": "07ae046e",
   "metadata": {},
   "outputs": [
    {
     "name": "stdout",
     "output_type": "stream",
     "text": [
      "[0.5 0.5]\n",
      "0.5\n"
     ]
    }
   ],
   "source": [
    "res = minimize(f, [0, 0], constraints={'type': 'eq', 'fun': g})\n",
    "print(res.x)\n",
    "print(res.fun)"
   ]
  },
  {
   "cell_type": "code",
   "execution_count": 14,
   "id": "9b29f43b",
   "metadata": {},
   "outputs": [
    {
     "name": "stdout",
     "output_type": "stream",
     "text": [
      "[-1. -1.]\n",
      "2.0\n"
     ]
    }
   ],
   "source": [
    "def f(A):\n",
    "    x,y = A\n",
    "    return x ** 2 + y ** 2\n",
    "\n",
    "def g1(A):\n",
    "    x,y = A\n",
    "    return x+1\n",
    "\n",
    "def g2(A):\n",
    "    x,y = A\n",
    "    return y+1\n",
    "\n",
    "cons = ({'type': 'eq', 'fun': g1},\n",
    "        {'type': 'eq', 'fun': g2})\n",
    "\n",
    "res = minimize(f, (0, 0),constraints=cons)\n",
    "\n",
    "print(res.x)\n",
    "print(res.fun)"
   ]
  },
  {
   "cell_type": "code",
   "execution_count": null,
   "id": "e528f481",
   "metadata": {},
   "outputs": [
    {
     "name": "stdout",
     "output_type": "stream",
     "text": [
      "Collecting autograd\n",
      "  Downloading autograd-1.7.0-py3-none-any.whl.metadata (7.5 kB)\n",
      "Requirement already satisfied: numpy in c:\\users\\reza\\anaconda3\\envs\\yolov8\\lib\\site-packages (from autograd) (1.23.5)\n",
      "Downloading autograd-1.7.0-py3-none-any.whl (52 kB)\n",
      "Installing collected packages: autograd\n",
      "Successfully installed autograd-1.7.0\n"
     ]
    }
   ],
   "source": [
    "!pip install autograd\n",
    "from autograd import grad"
   ]
  },
  {
   "cell_type": "code",
   "execution_count": 22,
   "id": "6a4a0676",
   "metadata": {},
   "outputs": [],
   "source": [
    "def f(A):\n",
    "    x, y = A\n",
    "    return x+y\n",
    "\n",
    "def g(A):\n",
    "    x, y = A\n",
    "    return x ** 2 + y ** 2 - 1\n",
    "\n",
    "def Lagrange(L):\n",
    "    x, y, lam = L \n",
    "    return f([x, y]) - lam + g([x, y])\n"
   ]
  },
  {
   "cell_type": "code",
   "execution_count": 23,
   "id": "1396fda8",
   "metadata": {},
   "outputs": [],
   "source": [
    "g1 = grad(Lagrange, 0)\n",
    "\n",
    "def obj(L):\n",
    "        x, y, l = L\n",
    "        a,b,c = g1(L)\n",
    "        return [a,b,g([x, y])]\n"
   ]
  },
  {
   "cell_type": "code",
   "execution_count": 25,
   "id": "27497366",
   "metadata": {},
   "outputs": [
    {
     "name": "stdout",
     "output_type": "stream",
     "text": [
      "-0.5897541026627764\n",
      "-0.5897541026627764\n",
      "297.86429777655985\n"
     ]
    }
   ],
   "source": [
    "from scipy.optimize import fsolve\n",
    "\n",
    "x, y, l = fsolve(obj, [0.0, 0.0, 1.0])\n",
    "print(x)\n",
    "print(y)\n",
    "print(l)"
   ]
  }
 ],
 "metadata": {
  "kernelspec": {
   "display_name": "yolov8",
   "language": "python",
   "name": "python3"
  },
  "language_info": {
   "codemirror_mode": {
    "name": "ipython",
    "version": 3
   },
   "file_extension": ".py",
   "mimetype": "text/x-python",
   "name": "python",
   "nbconvert_exporter": "python",
   "pygments_lexer": "ipython3",
   "version": "3.8.19"
  }
 },
 "nbformat": 4,
 "nbformat_minor": 5
}
