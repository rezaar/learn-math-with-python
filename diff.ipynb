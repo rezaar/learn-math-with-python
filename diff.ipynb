{
 "cells": [
  {
   "cell_type": "markdown",
   "id": "dac561d7",
   "metadata": {},
   "source": [
    "# مشتق"
   ]
  },
  {
   "cell_type": "code",
   "execution_count": 1,
   "id": "ec4755ea",
   "metadata": {},
   "outputs": [],
   "source": [
    "import sympy as sp"
   ]
  },
  {
   "cell_type": "code",
   "execution_count": 27,
   "id": "b8becefa",
   "metadata": {},
   "outputs": [],
   "source": [
    "x = sp.Symbol('x')\n",
    "y = sp.Symbol('y')\n"
   ]
  },
  {
   "cell_type": "code",
   "execution_count": 3,
   "id": "6cb6bb0f",
   "metadata": {},
   "outputs": [
    {
     "data": {
      "text/latex": [
       "$\\displaystyle x^{3} + 2 x + 3$"
      ],
      "text/plain": [
       "x**3 + 2*x + 3"
      ]
     },
     "execution_count": 3,
     "metadata": {},
     "output_type": "execute_result"
    }
   ],
   "source": [
    "f = x ** 3 + 2 * x + 3\n",
    "f"
   ]
  },
  {
   "cell_type": "code",
   "execution_count": 4,
   "id": "6209bf3e",
   "metadata": {},
   "outputs": [
    {
     "data": {
      "text/latex": [
       "$\\displaystyle 3 x^{2} + 2$"
      ],
      "text/plain": [
       "3*x**2 + 2"
      ]
     },
     "execution_count": 4,
     "metadata": {},
     "output_type": "execute_result"
    }
   ],
   "source": [
    "sp.diff(f, x)"
   ]
  },
  {
   "cell_type": "code",
   "execution_count": 8,
   "id": "cca97644",
   "metadata": {},
   "outputs": [
    {
     "data": {
      "text/latex": [
       "$\\displaystyle \\sin{\\left(x \\right)}$"
      ],
      "text/plain": [
       "sin(x)"
      ]
     },
     "execution_count": 8,
     "metadata": {},
     "output_type": "execute_result"
    }
   ],
   "source": [
    "f = sp.sin(x)\n",
    "f"
   ]
  },
  {
   "cell_type": "code",
   "execution_count": 9,
   "id": "e5766727",
   "metadata": {},
   "outputs": [
    {
     "data": {
      "text/latex": [
       "$\\displaystyle \\cos{\\left(x \\right)}$"
      ],
      "text/plain": [
       "cos(x)"
      ]
     },
     "execution_count": 9,
     "metadata": {},
     "output_type": "execute_result"
    }
   ],
   "source": [
    "sp.diff(f)"
   ]
  },
  {
   "cell_type": "code",
   "execution_count": 10,
   "id": "a7de71bb",
   "metadata": {},
   "outputs": [
    {
     "data": {
      "text/latex": [
       "$\\displaystyle \\log{\\left(x^{2} \\right)}$"
      ],
      "text/plain": [
       "log(x**2)"
      ]
     },
     "execution_count": 10,
     "metadata": {},
     "output_type": "execute_result"
    }
   ],
   "source": [
    "f = sp.log(x ** 2)\n",
    "f"
   ]
  },
  {
   "cell_type": "code",
   "execution_count": 11,
   "id": "4a94bf82",
   "metadata": {},
   "outputs": [
    {
     "data": {
      "text/latex": [
       "$\\displaystyle \\frac{2}{x}$"
      ],
      "text/plain": [
       "2/x"
      ]
     },
     "execution_count": 11,
     "metadata": {},
     "output_type": "execute_result"
    }
   ],
   "source": [
    "sp.diff(f, x)"
   ]
  },
  {
   "cell_type": "code",
   "execution_count": 14,
   "id": "a848b8df",
   "metadata": {},
   "outputs": [
    {
     "data": {
      "text/latex": [
       "$\\displaystyle e^{3 x}$"
      ],
      "text/plain": [
       "exp(3*x)"
      ]
     },
     "execution_count": 14,
     "metadata": {},
     "output_type": "execute_result"
    }
   ],
   "source": [
    "f = sp.exp(3 * x)\n",
    "f"
   ]
  },
  {
   "cell_type": "code",
   "execution_count": 16,
   "id": "d7643d2b",
   "metadata": {},
   "outputs": [
    {
     "data": {
      "text/latex": [
       "$\\displaystyle 3 e^{3 x}$"
      ],
      "text/plain": [
       "3*exp(3*x)"
      ]
     },
     "execution_count": 16,
     "metadata": {},
     "output_type": "execute_result"
    }
   ],
   "source": [
    "sp.diff(f, x)"
   ]
  },
  {
   "cell_type": "code",
   "execution_count": 17,
   "id": "1bb0799c",
   "metadata": {},
   "outputs": [],
   "source": [
    "from sympy import Function"
   ]
  },
  {
   "cell_type": "code",
   "execution_count": 28,
   "id": "1e794e04",
   "metadata": {},
   "outputs": [
    {
     "data": {
      "text/latex": [
       "$\\displaystyle f{\\left(x,y \\right)}$"
      ],
      "text/plain": [
       "f(x, y)"
      ]
     },
     "execution_count": 28,
     "metadata": {},
     "output_type": "execute_result"
    }
   ],
   "source": [
    "f = Function('f')\n",
    "u = f(x, y)\n",
    "u"
   ]
  },
  {
   "cell_type": "code",
   "execution_count": 35,
   "id": "548ace56",
   "metadata": {},
   "outputs": [
    {
     "data": {
      "text/latex": [
       "$\\displaystyle \\frac{\\partial}{\\partial x} f{\\left(x,y \\right)}$"
      ],
      "text/plain": [
       "Derivative(f(x, y), x)"
      ]
     },
     "execution_count": 35,
     "metadata": {},
     "output_type": "execute_result"
    }
   ],
   "source": [
    "ux = u.diff(x)\n",
    "ux"
   ]
  },
  {
   "cell_type": "code",
   "execution_count": 36,
   "id": "04d902a7",
   "metadata": {},
   "outputs": [
    {
     "data": {
      "text/latex": [
       "$\\displaystyle \\frac{\\partial}{\\partial y} f{\\left(x,y \\right)}$"
      ],
      "text/plain": [
       "Derivative(f(x, y), y)"
      ]
     },
     "execution_count": 36,
     "metadata": {},
     "output_type": "execute_result"
    }
   ],
   "source": [
    "uy = u.diff(y)\n",
    "uy"
   ]
  },
  {
   "cell_type": "code",
   "execution_count": 37,
   "id": "a83410cd",
   "metadata": {},
   "outputs": [],
   "source": [
    "from sympy import Eq"
   ]
  },
  {
   "cell_type": "code",
   "execution_count": 38,
   "id": "75337e92",
   "metadata": {},
   "outputs": [
    {
     "data": {
      "text/latex": [
       "$\\displaystyle 3 + \\frac{2 \\frac{\\partial}{\\partial x} f{\\left(x,y \\right)}}{f{\\left(x,y \\right)}} + \\frac{\\frac{\\partial}{\\partial y} f{\\left(x,y \\right)}}{f{\\left(x,y \\right)}} = 0$"
      ],
      "text/plain": [
       "Eq(3 + 2*Derivative(f(x, y), x)/f(x, y) + Derivative(f(x, y), y)/f(x, y), 0)"
      ]
     },
     "execution_count": 38,
     "metadata": {},
     "output_type": "execute_result"
    }
   ],
   "source": [
    "Eq(3 + 2 * (ux / u) + (uy / u), 0)"
   ]
  },
  {
   "cell_type": "code",
   "execution_count": 39,
   "id": "1dccd987",
   "metadata": {},
   "outputs": [
    {
     "data": {
      "text/latex": [
       "$\\displaystyle x^{2} - 6 x + 5$"
      ],
      "text/plain": [
       "x**2 - 6*x + 5"
      ]
     },
     "execution_count": 39,
     "metadata": {},
     "output_type": "execute_result"
    }
   ],
   "source": [
    "f = x ** 2 - 6 *x + 5\n",
    "f"
   ]
  },
  {
   "cell_type": "code",
   "execution_count": 40,
   "id": "e5fe43ea",
   "metadata": {},
   "outputs": [
    {
     "data": {
      "text/latex": [
       "$\\displaystyle 2 x - 6$"
      ],
      "text/plain": [
       "2*x - 6"
      ]
     },
     "execution_count": 40,
     "metadata": {},
     "output_type": "execute_result"
    }
   ],
   "source": [
    "df = f.diff(x)\n",
    "df"
   ]
  },
  {
   "cell_type": "code",
   "execution_count": 41,
   "id": "a0ef9deb",
   "metadata": {},
   "outputs": [
    {
     "data": {
      "text/plain": [
       "[3]"
      ]
     },
     "execution_count": 41,
     "metadata": {},
     "output_type": "execute_result"
    }
   ],
   "source": [
    "sp.solve(df)"
   ]
  },
  {
   "cell_type": "code",
   "execution_count": 42,
   "id": "64d4e378",
   "metadata": {},
   "outputs": [],
   "source": [
    "import matplotlib.pyplot as plt\n",
    "import numpy as np"
   ]
  },
  {
   "cell_type": "code",
   "execution_count": null,
   "id": "ab53de07",
   "metadata": {},
   "outputs": [
    {
     "data": {
      "image/png": "[encoded data removed]",
      "text/plain": [
       "<Figure size 640x480 with 1 Axes>"
      ]
     },
     "metadata": {},
     "output_type": "display_data"
    }
   ],
   "source": [
    "x = np.linspace(-3, 9, 100)\n",
    "y =  x ** 2 - 6 *x + 5\n",
    "\n",
    "plt.axvline(x=0, color='gray',linestyle='--')\n",
    "plt.axhline(y=0, color='gray',linestyle='--')\n",
    "\n",
    "plt.plot(x, y)\n",
    "plt.show()"
   ]
  }
 ],
 "metadata": {
  "kernelspec": {
   "display_name": "yolov8",
   "language": "python",
   "name": "python3"
  },
  "language_info": {
   "codemirror_mode": {
    "name": "ipython",
    "version": 3
   },
   "file_extension": ".py",
   "mimetype": "text/x-python",
   "name": "python",
   "nbconvert_exporter": "python",
   "pygments_lexer": "ipython3",
   "version": "3.8.19"
  }
 },
 "nbformat": 4,
 "nbformat_minor": 5
}
